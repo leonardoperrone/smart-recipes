{
 "cells": [
  {
   "cell_type": "code",
   "execution_count": 205,
   "metadata": {},
   "outputs": [],
   "source": [
    "import pandas as pd\n",
    "import numpy as np\n",
    "import os\n",
    "import requests\n",
    "from bs4 import BeautifulSoup\n",
    "import codecs\n",
    "import re"
   ]
  },
  {
   "cell_type": "code",
   "execution_count": 206,
   "metadata": {},
   "outputs": [
    {
     "ename": "FileNotFoundError",
     "evalue": "[Errno 2] No such file or directory: './recipePages/0aa58ba02d5e44c4f6e24cefb1b1fd0a.html'",
     "output_type": "error",
     "traceback": [
      "\u001b[0;31m---------------------------------------------------------------------------\u001b[0m",
      "\u001b[0;31mFileNotFoundError\u001b[0m                         Traceback (most recent call last)",
      "\u001b[0;32m<ipython-input-206-9c2de3347afd>\u001b[0m in \u001b[0;36m<module>\u001b[0;34m()\u001b[0m\n\u001b[1;32m      8\u001b[0m \u001b[0;34m\u001b[0m\u001b[0m\n\u001b[1;32m      9\u001b[0m \u001b[0;31m# for link in links:\u001b[0m\u001b[0;34m\u001b[0m\u001b[0;34m\u001b[0m\u001b[0m\n\u001b[0;32m---> 10\u001b[0;31m \u001b[0mf\u001b[0m \u001b[0;34m=\u001b[0m \u001b[0mcodecs\u001b[0m\u001b[0;34m.\u001b[0m\u001b[0mopen\u001b[0m\u001b[0;34m(\u001b[0m\u001b[0;34m'./recipePages/'\u001b[0m \u001b[0;34m+\u001b[0m \u001b[0;34m'0aa58ba02d5e44c4f6e24cefb1b1fd0a.html'\u001b[0m\u001b[0;34m,\u001b[0m \u001b[0;34m'r'\u001b[0m\u001b[0;34m,\u001b[0m \u001b[0;34m'utf-8'\u001b[0m\u001b[0;34m)\u001b[0m\u001b[0;34m\u001b[0m\u001b[0m\n\u001b[0m\u001b[1;32m     11\u001b[0m \u001b[0mdocument\u001b[0m\u001b[0;34m=\u001b[0m \u001b[0mBeautifulSoup\u001b[0m\u001b[0;34m(\u001b[0m\u001b[0mf\u001b[0m\u001b[0;34m.\u001b[0m\u001b[0mread\u001b[0m\u001b[0;34m(\u001b[0m\u001b[0;34m)\u001b[0m\u001b[0;34m,\u001b[0m\u001b[0;34m'html.parser'\u001b[0m\u001b[0;34m)\u001b[0m\u001b[0;34m\u001b[0m\u001b[0m\n\u001b[1;32m     12\u001b[0m \u001b[0mh1\u001b[0m \u001b[0;34m=\u001b[0m \u001b[0mdocument\u001b[0m\u001b[0;34m.\u001b[0m\u001b[0mbody\u001b[0m\u001b[0;34m.\u001b[0m\u001b[0mfind\u001b[0m\u001b[0;34m(\u001b[0m\u001b[0;34m'h1'\u001b[0m\u001b[0;34m)\u001b[0m\u001b[0;34m\u001b[0m\u001b[0m\n",
      "\u001b[0;32m~/anaconda3/envs/ada/lib/python3.6/codecs.py\u001b[0m in \u001b[0;36mopen\u001b[0;34m(filename, mode, encoding, errors, buffering)\u001b[0m\n\u001b[1;32m    895\u001b[0m         \u001b[0;31m# Force opening of the file in binary mode\u001b[0m\u001b[0;34m\u001b[0m\u001b[0;34m\u001b[0m\u001b[0m\n\u001b[1;32m    896\u001b[0m         \u001b[0mmode\u001b[0m \u001b[0;34m=\u001b[0m \u001b[0mmode\u001b[0m \u001b[0;34m+\u001b[0m \u001b[0;34m'b'\u001b[0m\u001b[0;34m\u001b[0m\u001b[0m\n\u001b[0;32m--> 897\u001b[0;31m     \u001b[0mfile\u001b[0m \u001b[0;34m=\u001b[0m \u001b[0mbuiltins\u001b[0m\u001b[0;34m.\u001b[0m\u001b[0mopen\u001b[0m\u001b[0;34m(\u001b[0m\u001b[0mfilename\u001b[0m\u001b[0;34m,\u001b[0m \u001b[0mmode\u001b[0m\u001b[0;34m,\u001b[0m \u001b[0mbuffering\u001b[0m\u001b[0;34m)\u001b[0m\u001b[0;34m\u001b[0m\u001b[0m\n\u001b[0m\u001b[1;32m    898\u001b[0m     \u001b[0;32mif\u001b[0m \u001b[0mencoding\u001b[0m \u001b[0;32mis\u001b[0m \u001b[0;32mNone\u001b[0m\u001b[0;34m:\u001b[0m\u001b[0;34m\u001b[0m\u001b[0m\n\u001b[1;32m    899\u001b[0m         \u001b[0;32mreturn\u001b[0m \u001b[0mfile\u001b[0m\u001b[0;34m\u001b[0m\u001b[0m\n",
      "\u001b[0;31mFileNotFoundError\u001b[0m: [Errno 2] No such file or directory: './recipePages/0aa58ba02d5e44c4f6e24cefb1b1fd0a.html'"
     ]
    }
   ],
   "source": [
    "# links = os.listdir('recipePages')\n",
    "# f = codecs.open('./recipePages/' + '0aa3ab5dd3e91eafd74a7dc17bd2f04f.html', 'r', 'utf-8')\n",
    "# document= BeautifulSoup(f.read(),'html.parser')\n",
    "\n",
    "recipeList = {}\n",
    "recipeList2 = {}\n",
    "recipeList3 = {}\n",
    "\n",
    "# for link in links:\n",
    "f = codecs.open('./recipePages/' + '0aa58ba02d5e44c4f6e24cefb1b1fd0a.html', 'r', 'utf-8')\n",
    "document= BeautifulSoup(f.read(),'html.parser')\n",
    "h1 = document.body.find('h1')\n",
    "title = h1.string if h1.string else h1.findChildren('span')[0].string\n",
    "\n",
    "# Method 1, trying to grab Ingredients word and select ingredients list from nearby\n",
    "\n",
    "ingredients = document.body.find_all(text=re.compile(\"^[a-zA-Z]+ngredients\"), recursive=True)\n",
    "print(ingredients)\n",
    "for ingredient in ingredients:\n",
    "    ingredientList = []\n",
    "    items = ingredient.parent.parent.find_all('li')\n",
    "    for item in items:\n",
    "        if (item.string == None):\n",
    "            children = item.findChildren('i') if item.findChildren('i') else item.findChildren('span')\n",
    "            if children: \n",
    "                for child in children:\n",
    "                    ingredientList.append(child.string)\n",
    "        else:\n",
    "            ingredientList.append(item.string)\n",
    "recipeList[title] = ingredientList\n",
    "\n",
    "# Method 2, trying to match a class on ul element that cointains ingredients'\n",
    "ingredients2 =  document.body.select('ul[class*=\"ingredients\"]')\n",
    "\n",
    "for ingredient2 in ingredients2:\n",
    "    \n",
    "    ingredientList2 = []\n",
    "    items2 = ingredient2.parent.find_all('li')\n",
    "    for item2 in items2:\n",
    "        if (item2.string == None):\n",
    "            children = item2.findChildren('i') if item2.findChildren('i') else item2.findChildren('span')\n",
    "            if children: \n",
    "                for child in children:\n",
    "                    ingredientList2.append(child.string)\n",
    "        else:\n",
    "            ingredientList2.append(item2.string)\n",
    "\n",
    "recipeList2[title] = ingredientList2\n",
    "\n",
    "# Mehtod 3, look for li elements with 'ingredient' class\n",
    "ingredients3 =  document.body.select('li[class*=\"ingredient\"]')\n",
    "ingredientList3 = []\n",
    "for ingredient3 in ingredients3:\n",
    "    if (ingredient3.string == None):\n",
    "        children = ingredient3.findChildren('i') if ingredient3.findChildren('i') else ingredient3.findChildren('span')\n",
    "        if children: \n",
    "            for child in children:\n",
    "                ingredientList3.append(child.string.rstrip())\n",
    "    else:\n",
    "        ingredientList3.append(ingredient3.string)\n",
    "        \n",
    "ingredientList3 = map(str.strip, ingredientList3)\n",
    "recipeList3[title] = list(ingredientList3)\n",
    "\n",
    "print(recipeList)\n",
    "print(recipeList2)\n",
    "print(recipeList3)"
   ]
  },
  {
   "cell_type": "code",
   "execution_count": 23,
   "metadata": {},
   "outputs": [
    {
     "data": {
      "text/plain": [
       "'0000758edcc24c88341ca0cd779f69b0.html'"
      ]
     },
     "execution_count": 23,
     "metadata": {},
     "output_type": "execute_result"
    }
   ],
   "source": []
  },
  {
   "cell_type": "code",
   "execution_count": null,
   "metadata": {},
   "outputs": [],
   "source": []
  }
 ],
 "metadata": {
  "kernelspec": {
   "display_name": "Python 3",
   "language": "python",
   "name": "python3"
  },
  "language_info": {
   "codemirror_mode": {
    "name": "ipython",
    "version": 3
   },
   "file_extension": ".py",
   "mimetype": "text/x-python",
   "name": "python",
   "nbconvert_exporter": "python",
   "pygments_lexer": "ipython3",
   "version": "3.6.6"
  }
 },
 "nbformat": 4,
 "nbformat_minor": 2
}
