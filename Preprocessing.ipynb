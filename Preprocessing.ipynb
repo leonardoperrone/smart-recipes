{
 "cells": [
  {
   "cell_type": "code",
   "execution_count": 1,
   "metadata": {},
   "outputs": [],
   "source": [
    "import pandas as pd\n",
    "import numpy as np\n",
    "import re\n",
    "from sklearn.pipeline import Pipeline\n",
    "from sklearn.feature_extraction.text import CountVectorizer\n",
    "from sklearn.feature_extraction.text import TfidfVectorizer\n",
    "from nltk.corpus import stopwords\n",
    "from nltk.stem import WordNetLemmatizer\n",
    "from IPython.display import HTML, display"
   ]
  },
  {
   "cell_type": "code",
   "execution_count": 2,
   "metadata": {},
   "outputs": [],
   "source": [
    "data_directory = './pickles/dataframes'"
   ]
  },
  {
   "cell_type": "markdown",
   "metadata": {},
   "source": [
    "## Loading data"
   ]
  },
  {
   "cell_type": "markdown",
   "metadata": {},
   "source": [
    "Load all the data dataframes from json, they are raw uncleaned scrapped websites"
   ]
  },
  {
   "cell_type": "code",
   "execution_count": 3,
   "metadata": {},
   "outputs": [],
   "source": [
    "all_recipe_df = pd.read_json(data_directory + '/all_recipe_raw.json')"
   ]
  },
  {
   "cell_type": "code",
   "execution_count": 4,
   "metadata": {},
   "outputs": [],
   "source": [
    "food_com_df  = pd.read_json(data_directory + '/food_com_raw.json')"
   ]
  },
  {
   "cell_type": "markdown",
   "metadata": {},
   "source": [
    "## Cleaning  all_recipe.com "
   ]
  },
  {
   "cell_type": "code",
   "execution_count": 10,
   "metadata": {},
   "outputs": [
    {
     "data": {
      "text/html": [
       "<div>\n",
       "<style scoped>\n",
       "    .dataframe tbody tr th:only-of-type {\n",
       "        vertical-align: middle;\n",
       "    }\n",
       "\n",
       "    .dataframe tbody tr th {\n",
       "        vertical-align: top;\n",
       "    }\n",
       "\n",
       "    .dataframe thead th {\n",
       "        text-align: right;\n",
       "    }\n",
       "</style>\n",
       "<table border=\"1\" class=\"dataframe\">\n",
       "  <thead>\n",
       "    <tr style=\"text-align: right;\">\n",
       "      <th></th>\n",
       "      <th>calories</th>\n",
       "      <th>cholesterol</th>\n",
       "      <th>cook_time</th>\n",
       "      <th>dietaryfiber</th>\n",
       "      <th>fat</th>\n",
       "      <th>name</th>\n",
       "      <th>prep_time</th>\n",
       "      <th>protein</th>\n",
       "      <th>rating</th>\n",
       "      <th>review</th>\n",
       "      <th>review_date</th>\n",
       "      <th>servings</th>\n",
       "      <th>sodium</th>\n",
       "      <th>total_time</th>\n",
       "      <th>totalcarbs</th>\n",
       "    </tr>\n",
       "  </thead>\n",
       "  <tbody>\n",
       "    <tr>\n",
       "      <th>0</th>\n",
       "      <td>160</td>\n",
       "      <td>46mg</td>\n",
       "      <td>8M</td>\n",
       "      <td>4g</td>\n",
       "      <td>2.6g</td>\n",
       "      <td>Whole Wheat Blueberry Pancakes</td>\n",
       "      <td>5M</td>\n",
       "      <td>9.8g</td>\n",
       "      <td>4</td>\n",
       "      <td>I lost my 100% whole wheat pancake recipe and ...</td>\n",
       "      <td>May 20, 2007</td>\n",
       "      <td>5</td>\n",
       "      <td>464mg</td>\n",
       "      <td>13M</td>\n",
       "      <td>26.7g</td>\n",
       "    </tr>\n",
       "    <tr>\n",
       "      <th>1</th>\n",
       "      <td>160</td>\n",
       "      <td>46mg</td>\n",
       "      <td>8M</td>\n",
       "      <td>4g</td>\n",
       "      <td>2.6g</td>\n",
       "      <td>Whole Wheat Blueberry Pancakes</td>\n",
       "      <td>5M</td>\n",
       "      <td>9.8g</td>\n",
       "      <td>4</td>\n",
       "      <td>Great recipe. Just add a bit more milk (or soy...</td>\n",
       "      <td>Aug. 31, 2007</td>\n",
       "      <td>5</td>\n",
       "      <td>464mg</td>\n",
       "      <td>13M</td>\n",
       "      <td>26.7g</td>\n",
       "    </tr>\n",
       "    <tr>\n",
       "      <th>10</th>\n",
       "      <td>166</td>\n",
       "      <td>6mg</td>\n",
       "      <td>30M</td>\n",
       "      <td>0.2g</td>\n",
       "      <td>5.1g</td>\n",
       "      <td>Lemon Cooler Cream Cake</td>\n",
       "      <td>30M</td>\n",
       "      <td>2.4g</td>\n",
       "      <td>4</td>\n",
       "      <td>This has been a hit everytime I make it.  My f...</td>\n",
       "      <td>Jun. 22, 2009</td>\n",
       "      <td>24</td>\n",
       "      <td>256mg</td>\n",
       "      <td>1H</td>\n",
       "      <td>28.1g</td>\n",
       "    </tr>\n",
       "    <tr>\n",
       "      <th>100</th>\n",
       "      <td>906</td>\n",
       "      <td>104mg</td>\n",
       "      <td>30M</td>\n",
       "      <td>7.2g</td>\n",
       "      <td>47.5g</td>\n",
       "      <td>Fry Bread Tacos II</td>\n",
       "      <td>30M</td>\n",
       "      <td>40.5g</td>\n",
       "      <td>4</td>\n",
       "      <td>Five stars for the actual fry bread.  I did ma...</td>\n",
       "      <td>Jan. 12, 2008</td>\n",
       "      <td>4</td>\n",
       "      <td>2255mg</td>\n",
       "      <td>1H</td>\n",
       "      <td>76.7g</td>\n",
       "    </tr>\n",
       "    <tr>\n",
       "      <th>1000</th>\n",
       "      <td>462</td>\n",
       "      <td>135mg</td>\n",
       "      <td>20M</td>\n",
       "      <td>1g</td>\n",
       "      <td>36.5g</td>\n",
       "      <td>Creamy Chicken and Wild Rice Soup</td>\n",
       "      <td>5M</td>\n",
       "      <td>12g</td>\n",
       "      <td>4</td>\n",
       "      <td>Wonderful soup! This one really sticks to your...</td>\n",
       "      <td>May 14, 2007</td>\n",
       "      <td>8</td>\n",
       "      <td>997mg</td>\n",
       "      <td>25M</td>\n",
       "      <td>22.6g</td>\n",
       "    </tr>\n",
       "  </tbody>\n",
       "</table>\n",
       "</div>"
      ],
      "text/plain": [
       "      calories cholesterol cook_time dietaryfiber    fat  \\\n",
       "0          160        46mg        8M           4g   2.6g   \n",
       "1          160        46mg        8M           4g   2.6g   \n",
       "10         166         6mg       30M         0.2g   5.1g   \n",
       "100        906       104mg       30M         7.2g  47.5g   \n",
       "1000       462       135mg       20M           1g  36.5g   \n",
       "\n",
       "                                   name prep_time protein  rating  \\\n",
       "0        Whole Wheat Blueberry Pancakes        5M    9.8g       4   \n",
       "1        Whole Wheat Blueberry Pancakes        5M    9.8g       4   \n",
       "10              Lemon Cooler Cream Cake       30M    2.4g       4   \n",
       "100                  Fry Bread Tacos II       30M   40.5g       4   \n",
       "1000  Creamy Chicken and Wild Rice Soup        5M     12g       4   \n",
       "\n",
       "                                                 review    review_date  \\\n",
       "0     I lost my 100% whole wheat pancake recipe and ...   May 20, 2007   \n",
       "1     Great recipe. Just add a bit more milk (or soy...  Aug. 31, 2007   \n",
       "10    This has been a hit everytime I make it.  My f...  Jun. 22, 2009   \n",
       "100   Five stars for the actual fry bread.  I did ma...  Jan. 12, 2008   \n",
       "1000  Wonderful soup! This one really sticks to your...   May 14, 2007   \n",
       "\n",
       "      servings  sodium total_time totalcarbs  \n",
       "0            5   464mg        13M      26.7g  \n",
       "1            5   464mg        13M      26.7g  \n",
       "10          24   256mg         1H      28.1g  \n",
       "100          4  2255mg         1H      76.7g  \n",
       "1000         8   997mg        25M      22.6g  "
      ]
     },
     "execution_count": 10,
     "metadata": {},
     "output_type": "execute_result"
    }
   ],
   "source": [
    "all_recipe_df.head() # get glimpse of the data"
   ]
  },
  {
   "cell_type": "code",
   "execution_count": 11,
   "metadata": {},
   "outputs": [
    {
     "name": "stdout",
     "output_type": "stream",
     "text": [
      "Number of recipes extracted = 9109\n"
     ]
    }
   ],
   "source": [
    "print(\"Number of recipes extracted = {}\".format(all_recipe_df['name'].unique().shape[0]))"
   ]
  },
  {
   "cell_type": "code",
   "execution_count": 12,
   "metadata": {},
   "outputs": [
    {
     "data": {
      "text/plain": [
       "calories         int64\n",
       "cholesterol     object\n",
       "cook_time       object\n",
       "dietaryfiber    object\n",
       "fat             object\n",
       "name            object\n",
       "prep_time       object\n",
       "protein         object\n",
       "rating           int64\n",
       "review          object\n",
       "review_date     object\n",
       "servings         int64\n",
       "sodium          object\n",
       "total_time      object\n",
       "totalcarbs      object\n",
       "dtype: object"
      ]
     },
     "execution_count": 12,
     "metadata": {},
     "output_type": "execute_result"
    }
   ],
   "source": [
    "all_recipe_df.dtypes # get the data types of the columns in the data"
   ]
  },
  {
   "cell_type": "markdown",
   "metadata": {},
   "source": [
    "The first step of cleaning is to convert nutrition information having different scales into one scale. <br>\n",
    "These include the columns:\n",
    "1. cholesterol    \n",
    "2. dietaryfiber\n",
    "3. fat\n",
    "4. protein\n",
    "5. sodium\n",
    "6. totalcarbs"
   ]
  },
  {
   "cell_type": "code",
   "execution_count": 13,
   "metadata": {},
   "outputs": [],
   "source": [
    "cholesterol_scale = all_recipe_df['cholesterol'].str.replace('\\d+','').unique()\n",
    "dietary_scale     = all_recipe_df['dietaryfiber'].str.replace('\\d+','').unique()\n",
    "fat_scale         = all_recipe_df['fat'].str.replace('\\d+','').unique()\n",
    "protein_scale     = all_recipe_df['protein'].str.replace('\\d+','').unique()\n",
    "sodium_scale      = all_recipe_df['sodium'].str.replace('\\d+','').unique()\n",
    "carbs_scale       = all_recipe_df['totalcarbs'].str.replace('\\d+','').unique()"
   ]
  },
  {
   "cell_type": "code",
   "execution_count": 14,
   "metadata": {},
   "outputs": [],
   "source": [
    "scales_dict = {\n",
    "    'cholesterol' : ' , '.join(cholesterol_scale),\n",
    "    'dietary'     : ' , '.join(dietary_scale),\n",
    "    'fat'         : ' , '.join(fat_scale),\n",
    "    'protein'     : ' , '.join(protein_scale),\n",
    "    'sodium'      : ' , '.join(sodium_scale),\n",
    "    'carbs'       : ' , '.join(carbs_scale)\n",
    "}"
   ]
  },
  {
   "cell_type": "code",
   "execution_count": 15,
   "metadata": {},
   "outputs": [],
   "source": [
    "def render_dict_html(d):\n",
    "    o = []\n",
    "    for k, v in d.items():\n",
    "        o.append('<tr><td>%s</td><td>%s</td></tr>' % (str(k), render_as_html(v)))\n",
    "    return '<table>%s</table>' % ''.join(o)\n",
    "\n",
    "def render_as_html(e):\n",
    "    o = []\n",
    "    if isinstance(e, list):\n",
    "        o.append(render_list_html(e))\n",
    "    elif isinstance(e, dict):\n",
    "        o.append(render_dict_html(e))\n",
    "    else:\n",
    "        o.append(str(e))\n",
    "    return '<html><body>%s</body></html>' % ''.join(o)"
   ]
  },
  {
   "cell_type": "code",
   "execution_count": 16,
   "metadata": {},
   "outputs": [
    {
     "data": {
      "text/html": [
       "<html><body><table><tr><td>carbs</td><td><html><body>.g , g</body></html></td></tr><tr><td>sodium</td><td><html><body>mg , < mg</body></html></td></tr><tr><td>fat</td><td><html><body>.g , g</body></html></td></tr><tr><td>dietary</td><td><html><body>g , .g</body></html></td></tr><tr><td>cholesterol</td><td><html><body>mg , < mg</body></html></td></tr><tr><td>protein</td><td><html><body>.g , g</body></html></td></tr></table></body></html>"
      ],
      "text/plain": [
       "<IPython.core.display.HTML object>"
      ]
     },
     "metadata": {},
     "output_type": "display_data"
    }
   ],
   "source": [
    "display(HTML(render_as_html(scales_dict)))"
   ]
  },
  {
   "cell_type": "markdown",
   "metadata": {},
   "source": [
    "From the above table all scales are the same per column and thus we just need to remove these strings from the columns "
   ]
  },
  {
   "cell_type": "code",
   "execution_count": 17,
   "metadata": {},
   "outputs": [],
   "source": [
    "all_recipe_df['cholesterol']  = all_recipe_df['cholesterol'].str.extract('(\\d+)').astype(int)\n",
    "all_recipe_df['dietaryfiber'] = all_recipe_df['dietaryfiber'].str.extract('(\\d+)').astype(int)\n",
    "all_recipe_df['fat']          = all_recipe_df['fat'].str.extract('(\\d+)').astype(int)\n",
    "all_recipe_df['protein']      = all_recipe_df['protein'].str.extract('(\\d+)').astype(int)\n",
    "all_recipe_df['sodium']       = all_recipe_df['sodium'].str.extract('(\\d+)').astype(int)\n",
    "all_recipe_df['totalcarbs']   = all_recipe_df['totalcarbs'].str.extract('(\\d+)').astype(int)"
   ]
  },
  {
   "cell_type": "code",
   "execution_count": 18,
   "metadata": {
    "scrolled": true
   },
   "outputs": [
    {
     "data": {
      "text/plain": [
       "calories         int64\n",
       "cholesterol      int64\n",
       "cook_time       object\n",
       "dietaryfiber     int64\n",
       "fat              int64\n",
       "name            object\n",
       "prep_time       object\n",
       "protein          int64\n",
       "rating           int64\n",
       "review          object\n",
       "review_date     object\n",
       "servings         int64\n",
       "sodium           int64\n",
       "total_time      object\n",
       "totalcarbs       int64\n",
       "dtype: object"
      ]
     },
     "execution_count": 18,
     "metadata": {},
     "output_type": "execute_result"
    }
   ],
   "source": [
    "all_recipe_df.dtypes # to verify the data types and check that they are numeric"
   ]
  },
  {
   "cell_type": "markdown",
   "metadata": {},
   "source": [
    "The next step is to clean the time and date columns and extract usefull information from them. <br>\n",
    "These columns include:\n",
    "1. prep_time   : total time to prepare the ingredients of the recipe to be cooked\n",
    "2. cook_time   : total time to be spent to cook the meal\n",
    "3. total_time  : total time to cook a recipe\n",
    "4. review_date : the date which the review of the recipe is given"
   ]
  },
  {
   "cell_type": "code",
   "execution_count": 19,
   "metadata": {},
   "outputs": [
    {
     "data": {
      "text/plain": [
       "array([u'M', nan, u'HM', u'H', u'DayH', u'DaysH', u'DaysHM', u'Day'],\n",
       "      dtype=object)"
      ]
     },
     "execution_count": 19,
     "metadata": {},
     "output_type": "execute_result"
    }
   ],
   "source": [
    "all_recipe_df['prep_time'].str.replace('\\d+','').unique()"
   ]
  },
  {
   "cell_type": "code",
   "execution_count": 20,
   "metadata": {},
   "outputs": [
    {
     "data": {
      "text/plain": [
       "array([u'M', nan, u'H', u'HM', u'DaysH', u'DayH', u'Day'], dtype=object)"
      ]
     },
     "execution_count": 20,
     "metadata": {},
     "output_type": "execute_result"
    }
   ],
   "source": [
    "all_recipe_df['cook_time'].str.replace('\\d+','').unique()"
   ]
  },
  {
   "cell_type": "code",
   "execution_count": 21,
   "metadata": {},
   "outputs": [
    {
     "data": {
      "text/plain": [
       "array([u'M', u'H', nan, u'HM', u'DayM', u'DayH', u'DaysM', u'DaysHM',\n",
       "       u'DayHM', u'DaysH', u'Days', u'Day'], dtype=object)"
      ]
     },
     "execution_count": 21,
     "metadata": {},
     "output_type": "execute_result"
    }
   ],
   "source": [
    "all_recipe_df['total_time'].str.replace('\\d+','').unique()"
   ]
  },
  {
   "cell_type": "markdown",
   "metadata": {},
   "source": [
    "We can see from the above that all these 3 columns have different scales. The next step is to rescale all of them down to minute scale as it is the smallest among them. <br>\n",
    "A small explanation of the scales:\n",
    "1. M    : kept the same value\n",
    "2. H    : each value is multiplied by 60\n",
    "3. Day/Days  : each value is multiplied by 3600\n",
    "<br>\n",
    "\n",
    "You can see that these values in the presented scales are appended to each other since they are seperated by the digits. For the nan value no scale was presented."
   ]
  },
  {
   "cell_type": "code",
   "execution_count": 22,
   "metadata": {},
   "outputs": [],
   "source": [
    "scale = ['Day','H','M']"
   ]
  },
  {
   "cell_type": "code",
   "execution_count": 23,
   "metadata": {},
   "outputs": [],
   "source": [
    "def rescale_time(meal_time,scale):\n",
    "    \n",
    "    if isinstance(meal_time,int):\n",
    "        return meal_time\n",
    "    else:\n",
    "    \n",
    "        if 's' in meal_time:\n",
    "            meal_time = meal_time.replace('s','')\n",
    "\n",
    "        total_time = 0\n",
    "        for i in range(0,len(scale)):\n",
    "            \n",
    "            res = meal_time.split(scale[i])\n",
    "            if res[0] == meal_time:\n",
    "                continue\n",
    "            else:\n",
    "                meal_time = res[1]\n",
    "                if scale[i] == 'Day':\n",
    "                    cnst = 3600\n",
    "                elif scale[i] == 'H':\n",
    "                    cnst = 60\n",
    "                elif scale[i] == 'M':\n",
    "                    cnst = 1\n",
    "\n",
    "                total_time += (int(res[0]) * cnst)\n",
    "\n",
    "\n",
    "        return total_time\n",
    "    "
   ]
  },
  {
   "cell_type": "code",
   "execution_count": 24,
   "metadata": {},
   "outputs": [],
   "source": [
    "all_recipe_df['prep_time']  = all_recipe_df['prep_time'].apply(lambda x : rescale_time(x,scale))\n",
    "all_recipe_df['cook_time']  = all_recipe_df['cook_time'].apply(lambda x : rescale_time(x,scale))\n",
    "all_recipe_df['total_time'] = all_recipe_df['total_time'].apply(lambda x : rescale_time(x,scale))"
   ]
  },
  {
   "cell_type": "markdown",
   "metadata": {},
   "source": [
    "Now for month data we just need to extract three features days,month and year. We perform this by adding these columns by extracting the needed info."
   ]
  },
  {
   "cell_type": "code",
   "execution_count": 25,
   "metadata": {},
   "outputs": [],
   "source": [
    "month_mapping = dict({'Jan':1,'Feb':2,'Mar':3,'Apr':4,'May':5,'Jun':6,'Jul':7,'Aug':8,'Sep':9,'Oct':10,'Nov':11,'Dec':12})"
   ]
  },
  {
   "cell_type": "code",
   "execution_count": 26,
   "metadata": {},
   "outputs": [],
   "source": [
    "def extract_month(date,month_scale):\n",
    "    dates_split = date.replace(',','').replace('.','').split(' ')\n",
    "    return month_scale[dates_split[0]]"
   ]
  },
  {
   "cell_type": "code",
   "execution_count": 27,
   "metadata": {},
   "outputs": [],
   "source": [
    "def extract_day(date):\n",
    "    dates_split = date.replace(',','').replace('.','').split(' ')\n",
    "    return dates_split[1]"
   ]
  },
  {
   "cell_type": "code",
   "execution_count": 28,
   "metadata": {},
   "outputs": [],
   "source": [
    "def extract_year(date):\n",
    "    dates_split = date.replace(',','').replace('.','').split(' ')\n",
    "    return dates_split[2]"
   ]
  },
  {
   "cell_type": "code",
   "execution_count": 29,
   "metadata": {},
   "outputs": [],
   "source": [
    "all_recipe_df['day'] = all_recipe_df['review_date'].apply(lambda x : extract_day(x)).astype(int)\n",
    "all_recipe_df['month'] = all_recipe_df['review_date'].apply(lambda x : extract_month(x,month_mapping)).astype(int)\n",
    "all_recipe_df['year'] = all_recipe_df['review_date'].apply(lambda x : extract_year(x)).astype(int)\n",
    "all_recipe_df = all_recipe_df.drop('review_date',axis=1)"
   ]
  },
  {
   "cell_type": "code",
   "execution_count": 30,
   "metadata": {},
   "outputs": [
    {
     "data": {
      "text/plain": [
       "calories         int64\n",
       "cholesterol      int64\n",
       "cook_time        int64\n",
       "dietaryfiber     int64\n",
       "fat              int64\n",
       "name            object\n",
       "prep_time        int64\n",
       "protein          int64\n",
       "rating           int64\n",
       "review          object\n",
       "servings         int64\n",
       "sodium           int64\n",
       "total_time       int64\n",
       "totalcarbs       int64\n",
       "day              int64\n",
       "month            int64\n",
       "year             int64\n",
       "dtype: object"
      ]
     },
     "execution_count": 30,
     "metadata": {},
     "output_type": "execute_result"
    }
   ],
   "source": [
    "all_recipe_df.dtypes"
   ]
  },
  {
   "cell_type": "markdown",
   "metadata": {},
   "source": [
    "For the last step before starting with the NLP part. We need to change the review into categorical data corresponding to the sentiment of the reviewer. These will fall into 3 buckets:\n",
    "1. A rating of 1 and 2 will be considered as negative and equal to 0.\n",
    "2. A rating of 3 will be considered as neutral and equal to 1.\n",
    "3. A rating of 4 and 5 will be considered as positive and equal to 2."
   ]
  },
  {
   "cell_type": "code",
   "execution_count": 31,
   "metadata": {},
   "outputs": [],
   "source": [
    "review_buckets = {1:0,2:0,3:1,4:2,5:2}\n",
    "all_recipe_df['rating'] = all_recipe_df['rating'].apply(lambda x : review_buckets[x])"
   ]
  },
  {
   "cell_type": "code",
   "execution_count": 32,
   "metadata": {},
   "outputs": [
    {
     "data": {
      "text/html": [
       "<div>\n",
       "<style scoped>\n",
       "    .dataframe tbody tr th:only-of-type {\n",
       "        vertical-align: middle;\n",
       "    }\n",
       "\n",
       "    .dataframe tbody tr th {\n",
       "        vertical-align: top;\n",
       "    }\n",
       "\n",
       "    .dataframe thead th {\n",
       "        text-align: right;\n",
       "    }\n",
       "</style>\n",
       "<table border=\"1\" class=\"dataframe\">\n",
       "  <thead>\n",
       "    <tr style=\"text-align: right;\">\n",
       "      <th></th>\n",
       "      <th>calories</th>\n",
       "      <th>cholesterol</th>\n",
       "      <th>cook_time</th>\n",
       "      <th>dietaryfiber</th>\n",
       "      <th>fat</th>\n",
       "      <th>name</th>\n",
       "      <th>prep_time</th>\n",
       "      <th>protein</th>\n",
       "      <th>rating</th>\n",
       "      <th>review</th>\n",
       "      <th>servings</th>\n",
       "      <th>sodium</th>\n",
       "      <th>total_time</th>\n",
       "      <th>totalcarbs</th>\n",
       "      <th>day</th>\n",
       "      <th>month</th>\n",
       "      <th>year</th>\n",
       "    </tr>\n",
       "  </thead>\n",
       "  <tbody>\n",
       "    <tr>\n",
       "      <th>0</th>\n",
       "      <td>160</td>\n",
       "      <td>46</td>\n",
       "      <td>8</td>\n",
       "      <td>4</td>\n",
       "      <td>2</td>\n",
       "      <td>Whole Wheat Blueberry Pancakes</td>\n",
       "      <td>5</td>\n",
       "      <td>9</td>\n",
       "      <td>2</td>\n",
       "      <td>I lost my 100% whole wheat pancake recipe and ...</td>\n",
       "      <td>5</td>\n",
       "      <td>464</td>\n",
       "      <td>13</td>\n",
       "      <td>26</td>\n",
       "      <td>20</td>\n",
       "      <td>5</td>\n",
       "      <td>2007</td>\n",
       "    </tr>\n",
       "    <tr>\n",
       "      <th>1</th>\n",
       "      <td>160</td>\n",
       "      <td>46</td>\n",
       "      <td>8</td>\n",
       "      <td>4</td>\n",
       "      <td>2</td>\n",
       "      <td>Whole Wheat Blueberry Pancakes</td>\n",
       "      <td>5</td>\n",
       "      <td>9</td>\n",
       "      <td>2</td>\n",
       "      <td>Great recipe. Just add a bit more milk (or soy...</td>\n",
       "      <td>5</td>\n",
       "      <td>464</td>\n",
       "      <td>13</td>\n",
       "      <td>26</td>\n",
       "      <td>31</td>\n",
       "      <td>8</td>\n",
       "      <td>2007</td>\n",
       "    </tr>\n",
       "    <tr>\n",
       "      <th>10</th>\n",
       "      <td>166</td>\n",
       "      <td>6</td>\n",
       "      <td>30</td>\n",
       "      <td>0</td>\n",
       "      <td>5</td>\n",
       "      <td>Lemon Cooler Cream Cake</td>\n",
       "      <td>30</td>\n",
       "      <td>2</td>\n",
       "      <td>2</td>\n",
       "      <td>This has been a hit everytime I make it.  My f...</td>\n",
       "      <td>24</td>\n",
       "      <td>256</td>\n",
       "      <td>60</td>\n",
       "      <td>28</td>\n",
       "      <td>22</td>\n",
       "      <td>6</td>\n",
       "      <td>2009</td>\n",
       "    </tr>\n",
       "    <tr>\n",
       "      <th>100</th>\n",
       "      <td>906</td>\n",
       "      <td>104</td>\n",
       "      <td>30</td>\n",
       "      <td>7</td>\n",
       "      <td>47</td>\n",
       "      <td>Fry Bread Tacos II</td>\n",
       "      <td>30</td>\n",
       "      <td>40</td>\n",
       "      <td>2</td>\n",
       "      <td>Five stars for the actual fry bread.  I did ma...</td>\n",
       "      <td>4</td>\n",
       "      <td>2255</td>\n",
       "      <td>60</td>\n",
       "      <td>76</td>\n",
       "      <td>12</td>\n",
       "      <td>1</td>\n",
       "      <td>2008</td>\n",
       "    </tr>\n",
       "    <tr>\n",
       "      <th>1000</th>\n",
       "      <td>462</td>\n",
       "      <td>135</td>\n",
       "      <td>20</td>\n",
       "      <td>1</td>\n",
       "      <td>36</td>\n",
       "      <td>Creamy Chicken and Wild Rice Soup</td>\n",
       "      <td>5</td>\n",
       "      <td>12</td>\n",
       "      <td>2</td>\n",
       "      <td>Wonderful soup! This one really sticks to your...</td>\n",
       "      <td>8</td>\n",
       "      <td>997</td>\n",
       "      <td>25</td>\n",
       "      <td>22</td>\n",
       "      <td>14</td>\n",
       "      <td>5</td>\n",
       "      <td>2007</td>\n",
       "    </tr>\n",
       "  </tbody>\n",
       "</table>\n",
       "</div>"
      ],
      "text/plain": [
       "      calories  cholesterol  cook_time  dietaryfiber  fat  \\\n",
       "0          160           46          8             4    2   \n",
       "1          160           46          8             4    2   \n",
       "10         166            6         30             0    5   \n",
       "100        906          104         30             7   47   \n",
       "1000       462          135         20             1   36   \n",
       "\n",
       "                                   name  prep_time  protein  rating  \\\n",
       "0        Whole Wheat Blueberry Pancakes          5        9       2   \n",
       "1        Whole Wheat Blueberry Pancakes          5        9       2   \n",
       "10              Lemon Cooler Cream Cake         30        2       2   \n",
       "100                  Fry Bread Tacos II         30       40       2   \n",
       "1000  Creamy Chicken and Wild Rice Soup          5       12       2   \n",
       "\n",
       "                                                 review  servings  sodium  \\\n",
       "0     I lost my 100% whole wheat pancake recipe and ...         5     464   \n",
       "1     Great recipe. Just add a bit more milk (or soy...         5     464   \n",
       "10    This has been a hit everytime I make it.  My f...        24     256   \n",
       "100   Five stars for the actual fry bread.  I did ma...         4    2255   \n",
       "1000  Wonderful soup! This one really sticks to your...         8     997   \n",
       "\n",
       "      total_time  totalcarbs  day  month  year  \n",
       "0             13          26   20      5  2007  \n",
       "1             13          26   31      8  2007  \n",
       "10            60          28   22      6  2009  \n",
       "100           60          76   12      1  2008  \n",
       "1000          25          22   14      5  2007  "
      ]
     },
     "execution_count": 32,
     "metadata": {},
     "output_type": "execute_result"
    }
   ],
   "source": [
    "all_recipe_df.head()"
   ]
  },
  {
   "cell_type": "markdown",
   "metadata": {},
   "source": [
    "## Working with text"
   ]
  },
  {
   "cell_type": "markdown",
   "metadata": {},
   "source": [
    "The text pipline cleaning goes as follows:\n",
    "1. load the reviews from the dataframe\n",
    "2. remove non alphabetic letters\n",
    "3. convert letters to lowercase (this helps us to increase the number of words that are common)\n",
    "4. remove stopwords as they don't give us much meaning\n",
    "5. lemmatizing words helps us removing prefixes and affixes and thus increasing the similarity of the words\n",
    "6. Finally we construct a document term matrix using both (tf-idf and one-hot encoding) matrices"
   ]
  },
  {
   "cell_type": "code",
   "execution_count": 33,
   "metadata": {},
   "outputs": [],
   "source": [
    "reviews_per_recipe = all_recipe_df['review'].values # load the reviews"
   ]
  },
  {
   "cell_type": "code",
   "execution_count": 20,
   "metadata": {},
   "outputs": [],
   "source": [
    "def remove_non_chars(input_reviews):\n",
    "    return np.array( [re.sub('[^a-zA-Z]+',' ',sample) for sample in input_reviews])"
   ]
  },
  {
   "cell_type": "code",
   "execution_count": 21,
   "metadata": {},
   "outputs": [],
   "source": [
    "def lowercase(input_reviews):\n",
    "    # convert all words to lower case letters\n",
    "    return np.array( [' '.join([word.lower() for word in sample.split()]) for sample in input_reviews])"
   ]
  },
  {
   "cell_type": "code",
   "execution_count": 22,
   "metadata": {},
   "outputs": [],
   "source": [
    "def remove_stopwords(input_reviews):\n",
    "    # removes stop words\n",
    "    stop = stopwords.words('english')\n",
    "    return np.array( [' '.join([word for word in sample.split() if word.lower() not in stop]) for sample in input_reviews])"
   ]
  },
  {
   "cell_type": "code",
   "execution_count": 23,
   "metadata": {},
   "outputs": [],
   "source": [
    "def lemmatize_words(input_reviews):\n",
    "    # removes affixes and prefixes\n",
    "    lem = WordNetLemmatizer()\n",
    "    return np.array( [' '.join([lem.lemmatize(word) for word in sample.split()]) for sample in input_reviews])"
   ]
  },
  {
   "cell_type": "code",
   "execution_count": 38,
   "metadata": {},
   "outputs": [],
   "source": [
    "review_non_char  = remove_non_chars(reviews_per_recipe)\n",
    "review_lowercase = lowercase(review_non_char)\n",
    "review_not_stop  = remove_stopwords(review_lowercase)\n",
    "review_lemmas    = lemmatize_words(review_not_stop)"
   ]
  },
  {
   "cell_type": "code",
   "execution_count": 39,
   "metadata": {},
   "outputs": [],
   "source": [
    "tfidf_vectorizer = TfidfVectorizer(max_df=2)\n",
    "count_vectorizer = CountVectorizer(max_df=2)\n",
    "X1 = tfidf_vectorizer.fit_transform(review_lemmas)\n",
    "X2 = count_vectorizer.fit_transform(review_lemmas)"
   ]
  },
  {
   "cell_type": "code",
   "execution_count": 40,
   "metadata": {},
   "outputs": [],
   "source": [
    "tfidf_df = pd.DataFrame(X1.toarray(), columns=tfidf_vectorizer.get_feature_names())\n",
    "count_df = pd.DataFrame(X2.toarray(), columns=count_vectorizer.get_feature_names())"
   ]
  },
  {
   "cell_type": "code",
   "execution_count": 41,
   "metadata": {},
   "outputs": [],
   "source": [
    "tfidf_df['recipe_name'] = all_recipe_df['name'].values\n",
    "count_df['recipe_name'] = all_recipe_df['name'].values"
   ]
  },
  {
   "cell_type": "code",
   "execution_count": null,
   "metadata": {},
   "outputs": [],
   "source": [
    "# final datasets\n",
    "all_recipe_df,tfidf_df,count_df"
   ]
  },
  {
   "cell_type": "markdown",
   "metadata": {},
   "source": [
    "## Cleaning Food.com"
   ]
  },
  {
   "cell_type": "code",
   "execution_count": 5,
   "metadata": {},
   "outputs": [
    {
     "data": {
      "text/plain": [
       "calories                      float64\n",
       "carbohydrateContent           float64\n",
       "category                       object\n",
       "cholesterolContent            float64\n",
       "cookTime                       object\n",
       "date                   datetime64[ns]\n",
       "fatContent                    float64\n",
       "fiberContent                  float64\n",
       "name                           object\n",
       "prepTime                       object\n",
       "proteinContent                float64\n",
       "review                         object\n",
       "review_date                    object\n",
       "saturatedFatContent           float64\n",
       "servings                       object\n",
       "sodiumContent                 float64\n",
       "sugarContent                  float64\n",
       "dtype: object"
      ]
     },
     "execution_count": 5,
     "metadata": {},
     "output_type": "execute_result"
    }
   ],
   "source": [
    "food_com_df.dtypes"
   ]
  },
  {
   "cell_type": "code",
   "execution_count": 6,
   "metadata": {},
   "outputs": [
    {
     "name": "stdout",
     "output_type": "stream",
     "text": [
      "Number of recipes extracted = 8507\n"
     ]
    }
   ],
   "source": [
    "print(\"Number of recipes extracted = {}\".format(food_com_df['name'].unique().shape[0]))"
   ]
  },
  {
   "cell_type": "markdown",
   "metadata": {},
   "source": [
    "To do the processing again we start by cleaning nutrition data, however in this case all data is in numeric format with no scales given."
   ]
  },
  {
   "cell_type": "markdown",
   "metadata": {},
   "source": [
    "Moving to the next step would be cleaning date related to time and dates. The only additional column we have in this dataset is the date in which the user gave a review."
   ]
  },
  {
   "cell_type": "code",
   "execution_count": 7,
   "metadata": {},
   "outputs": [
    {
     "data": {
      "text/plain": [
       "(array([u' mins', u' hrs ', u' hrs  mins'], dtype=object),\n",
       " array([u' mins', u' hrs  mins', u' hrs '], dtype=object))"
      ]
     },
     "execution_count": 7,
     "metadata": {},
     "output_type": "execute_result"
    }
   ],
   "source": [
    "cook_scale = food_com_df['cookTime'].str.replace('\\d+','').unique()\n",
    "prep_scale = food_com_df['prepTime'].str.replace('\\d+','').unique()\n",
    "cook_scale,prep_scale"
   ]
  },
  {
   "cell_type": "code",
   "execution_count": 8,
   "metadata": {},
   "outputs": [],
   "source": [
    "def rescale_time(input_time,time_scale=['hrs','mins']):\n",
    "    \n",
    "    input_time = input_time.strip()\n",
    "    total_time = 0\n",
    "    for i in range(0,len(time_scale)):\n",
    "        res = input_time.split(time_scale[i])\n",
    "        if res[0] == input_time:\n",
    "            continue\n",
    "        else:\n",
    "            input_time = input_time[1]\n",
    "            if time_scale[i] == 'hrs':\n",
    "                cnst = 60\n",
    "            elif time_scale[i] == 'mins':\n",
    "                cnst = 1\n",
    "            total_time += (int(res[0]) * cnst)\n",
    "            \n",
    "    return total_time\n",
    "        "
   ]
  },
  {
   "cell_type": "code",
   "execution_count": 9,
   "metadata": {},
   "outputs": [],
   "source": [
    "food_com_df['prepTime'] = food_com_df['prepTime'].apply(lambda x : rescale_time(x)).astype(int)\n",
    "food_com_df['cookTime'] = food_com_df['cookTime'].apply(lambda x : rescale_time(x)).astype(int)"
   ]
  },
  {
   "cell_type": "markdown",
   "metadata": {},
   "source": [
    "Moving on to date data we do as we did in the first step : extract month,day and year and construct columns out of them."
   ]
  },
  {
   "cell_type": "code",
   "execution_count": 10,
   "metadata": {},
   "outputs": [],
   "source": [
    "food_month_map = {'January':1,'February':2,'March':3,'April':4,'May':5,'June':6,'July':7,'August':8,'September':9,\n",
    "                  'October':10,'November':11,'December':12}"
   ]
  },
  {
   "cell_type": "code",
   "execution_count": 11,
   "metadata": {},
   "outputs": [],
   "source": [
    "def extract_month_food(time,month_mapping):\n",
    "    extract_month = time.split(' ')[0]\n",
    "    return month_mapping[extract_month]"
   ]
  },
  {
   "cell_type": "code",
   "execution_count": 12,
   "metadata": {},
   "outputs": [],
   "source": [
    "def extract_day_food(time):\n",
    "    return int(time.split(' ')[1].replace(',',''))"
   ]
  },
  {
   "cell_type": "code",
   "execution_count": 13,
   "metadata": {},
   "outputs": [],
   "source": [
    "def extract_year_food(time):\n",
    "    return int(time.split(',')[1])"
   ]
  },
  {
   "cell_type": "code",
   "execution_count": 14,
   "metadata": {},
   "outputs": [],
   "source": [
    "food_com_df['review_day']   = food_com_df['review_date'].apply(lambda x: extract_day_food(x))\n",
    "food_com_df['review_month'] = food_com_df['review_date'].apply(lambda x: extract_month_food(x,food_month_map))\n",
    "food_com_df['review_year']  = food_com_df['review_date'].apply(lambda x: extract_year_food(x))"
   ]
  },
  {
   "cell_type": "code",
   "execution_count": 15,
   "metadata": {},
   "outputs": [],
   "source": [
    "food_com_df['post_day'] = food_com_df['date'].map(lambda x: x.day)\n",
    "food_com_df['post_month'] = food_com_df['date'].map(lambda x: x.month)\n",
    "food_com_df['post_year'] = food_com_df['date'].map(lambda x: x.day)"
   ]
  },
  {
   "cell_type": "markdown",
   "metadata": {},
   "source": [
    "Fix servings column as they are not integers."
   ]
  },
  {
   "cell_type": "code",
   "execution_count": 16,
   "metadata": {},
   "outputs": [],
   "source": [
    "def parse_floats(input_serving):\n",
    "    \n",
    "    if '/' in input_serving:\n",
    "        res = input_serving.split('/')\n",
    "        temp = res[0].split(' ')\n",
    "        if len(temp)>1:\n",
    "            return float(temp[0]) + (float(temp[1])/float(res[1]))\n",
    "        else:\n",
    "            return float(temp[0])/float(res[1])\n",
    "        \n",
    "    else:\n",
    "        return float(input_serving)"
   ]
  },
  {
   "cell_type": "code",
   "execution_count": 17,
   "metadata": {},
   "outputs": [],
   "source": [
    "food_com_df['servings'] = food_com_df['servings'].apply(lambda x : parse_floats(x))"
   ]
  },
  {
   "cell_type": "markdown",
   "metadata": {},
   "source": [
    "Apply text pipline for this dataset again."
   ]
  },
  {
   "cell_type": "code",
   "execution_count": 18,
   "metadata": {},
   "outputs": [],
   "source": [
    "reviews_per_recipe_food_com = food_com_df['review'].values"
   ]
  },
  {
   "cell_type": "code",
   "execution_count": 24,
   "metadata": {},
   "outputs": [],
   "source": [
    "review_foodcom_non_char  = remove_non_chars(reviews_per_recipe_food_com)\n",
    "review_foodcom_lowercase = lowercase(review_foodcom_non_char)\n",
    "review_foodcom_not_stop  = remove_stopwords(review_foodcom_lowercase)\n",
    "review_foodcom_lemmas    = lemmatize_words(review_foodcom_not_stop)"
   ]
  },
  {
   "cell_type": "code",
   "execution_count": 27,
   "metadata": {},
   "outputs": [],
   "source": [
    "tfidf_vectorizer = TfidfVectorizer(max_df=0.8)\n",
    "count_vectorizer = CountVectorizer(max_df=0.8)\n",
    "X3 = tfidf_vectorizer.fit_transform(review_foodcom_lemmas)\n",
    "X4 = count_vectorizer.fit_transform(review_foodcom_lemmas)"
   ]
  },
  {
   "cell_type": "code",
   "execution_count": 30,
   "metadata": {},
   "outputs": [],
   "source": [
    "tfidf_foodcom_df = pd.DataFrame(X3.toarray(), columns=tfidf_vectorizer.get_feature_names())\n",
    "count_foodcom_df = pd.DataFrame(X4.toarray(), columns=count_vectorizer.get_feature_names())"
   ]
  },
  {
   "cell_type": "code",
   "execution_count": 31,
   "metadata": {},
   "outputs": [],
   "source": [
    "tfidf_foodcom_df['recipe_name'] = food_com_df['name'].values\n",
    "count_foodcom_df['recipe_name'] = food_com_df['name'].values"
   ]
  },
  {
   "cell_type": "code",
   "execution_count": null,
   "metadata": {},
   "outputs": [],
   "source": [
    "# final datasets\n",
    "food_com_df,tfidf_foodcom_df,count_foodcom_df"
   ]
  },
  {
   "cell_type": "code",
   "execution_count": null,
   "metadata": {},
   "outputs": [],
   "source": []
  },
  {
   "cell_type": "code",
   "execution_count": null,
   "metadata": {},
   "outputs": [],
   "source": []
  },
  {
   "cell_type": "code",
   "execution_count": null,
   "metadata": {},
   "outputs": [],
   "source": []
  }
 ],
 "metadata": {
  "kernelspec": {
   "display_name": "Python 2",
   "language": "python",
   "name": "python2"
  },
  "language_info": {
   "codemirror_mode": {
    "name": "ipython",
    "version": 2
   },
   "file_extension": ".py",
   "mimetype": "text/x-python",
   "name": "python",
   "nbconvert_exporter": "python",
   "pygments_lexer": "ipython2",
   "version": "2.7.15"
  }
 },
 "nbformat": 4,
 "nbformat_minor": 2
}
